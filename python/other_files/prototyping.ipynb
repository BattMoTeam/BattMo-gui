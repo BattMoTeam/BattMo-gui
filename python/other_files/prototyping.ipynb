{
 "cells": [
  {
   "cell_type": "code",
   "execution_count": 1,
   "metadata": {},
   "outputs": [],
   "source": [
    "import json\n",
    "import h5py\n",
    "import os\n",
    "import pandas as pd\n",
    "import numpy as np\n",
    "import glob\n",
    "import fileinput as fi"
   ]
  },
  {
   "cell_type": "code",
   "execution_count": 2,
   "metadata": {},
   "outputs": [
    {
     "data": {
      "text/plain": [
       "'../data'"
      ]
     },
     "execution_count": 2,
     "metadata": {},
     "output_type": "execute_result"
    }
   ],
   "source": [
    "DATA_PATH = \"../data\"\n",
    "DATA_PATH"
   ]
  },
  {
   "cell_type": "code",
   "execution_count": 11,
   "metadata": {},
   "outputs": [
    {
     "name": "stdout",
     "output_type": "stream",
     "text": [
      "None\n"
     ]
    }
   ],
   "source": [
    "py_files = glob.glob(\"./*.py\")\n",
    "f = fi.input(files=py_files)\n",
    "print(f.filename())"
   ]
  },
  {
   "cell_type": "code",
   "execution_count": 3,
   "metadata": {},
   "outputs": [
    {
     "data": {
      "text/plain": [
       "<KeysViewHDF5 ['Electrolyte', 'GlobalVariables', 'Grid', 'NegativeElectrode', 'PositiveElectrode', 'ThermalModel']>"
      ]
     },
     "execution_count": 3,
     "metadata": {},
     "output_type": "execute_result"
    }
   ],
   "source": [
    "f = h5py.File(DATA_PATH + '/runBattery1D_results.h5', 'r')\n",
    "f.keys()"
   ]
  },
  {
   "cell_type": "code",
   "execution_count": 4,
   "metadata": {},
   "outputs": [
    {
     "data": {
      "text/plain": [
       "<HDF5 dataset \"E\": shape (1, 125), type \"<f8\">"
      ]
     },
     "execution_count": 4,
     "metadata": {},
     "output_type": "execute_result"
    }
   ],
   "source": [
    "#f[\"GlobalVariables\"].keys() #['E', 'I', 'time']\n",
    "f[\"GlobalVariables\"][\"E\"]"
   ]
  },
  {
   "cell_type": "code",
   "execution_count": 12,
   "metadata": {},
   "outputs": [
    {
     "data": {
      "text/plain": [
       "array([[  50.4       ,  100.8       ,  151.2       ,  201.6       ,\n",
       "         252.        ,  302.4       ,  352.8       ,  403.2       ,\n",
       "         453.6       ,  504.        ,  554.4       ,  604.8       ,\n",
       "         655.2       ,  705.6       ,  756.        ,  806.4       ,\n",
       "         856.8       ,  907.2       ,  957.6       , 1008.        ,\n",
       "        1058.4       , 1108.8       , 1159.2       , 1209.6       ,\n",
       "        1260.        , 1310.4       , 1360.8       , 1411.2       ,\n",
       "        1461.6       , 1512.        , 1562.4       , 1612.8       ,\n",
       "        1663.2       , 1713.6       , 1764.        , 1814.4       ,\n",
       "        1864.8       , 1915.2       , 1965.6       , 2016.        ,\n",
       "        2066.4       , 2116.8       , 2167.2       , 2217.6       ,\n",
       "        2268.        , 2318.4       , 2368.8       , 2419.2       ,\n",
       "        2469.6       , 2520.        , 2570.4       , 2620.8       ,\n",
       "        2671.2       , 2721.6       , 2772.        , 2822.4       ,\n",
       "        2872.8       , 2923.2       , 2973.6       , 3024.        ,\n",
       "        3074.4       , 3124.8       , 3175.2       , 3225.6       ,\n",
       "        3276.        , 3326.4       , 3376.8       , 3427.2       ,\n",
       "        3477.6       , 3528.        , 3578.4       , 3628.8       ,\n",
       "        3679.2       , 3729.6       , 3762.11782002, 3780.        ,\n",
       "        3808.41873442, 3830.4       , 3845.1994133 , 3853.56380508,\n",
       "        3859.61046445, 3864.50892176, 3868.69654095, 3872.38446437,\n",
       "        3875.68963017, 3878.6847419 , 3880.8       , 3883.94822489,\n",
       "        3886.51492716, 3888.75482446, 3890.77460469, 3892.62801204,\n",
       "        3894.3457528 , 3895.94747264, 3897.44704826, 3898.85508541,\n",
       "        3900.18016171, 3901.96159525, 3905.52446232, 3912.65019645,\n",
       "        3931.2       , 3945.45146827, 3966.74145767, 3981.6       ,\n",
       "        4032.        , 4082.4       , 4132.8       , 4183.2       ,\n",
       "        4233.6       , 4284.        , 4334.4       , 4384.8       ,\n",
       "        4435.2       , 4485.6       , 4536.        , 4586.4       ,\n",
       "        4636.8       , 4687.2       , 4737.6       , 4788.        ,\n",
       "        4838.4       , 4888.8       , 4939.2       , 4989.6       ,\n",
       "        5040.        ]])"
      ]
     },
     "execution_count": 12,
     "metadata": {},
     "output_type": "execute_result"
    }
   ],
   "source": [
    "f[\"GlobalVariables\"][\"time\"][:]"
   ]
  },
  {
   "cell_type": "code",
   "execution_count": 5,
   "metadata": {},
   "outputs": [
    {
     "data": {
      "text/plain": [
       "array([[3.2000e-06, 9.6000e-06, 1.6000e-05, 2.2400e-05, 2.8800e-05,\n",
       "        3.5200e-05, 4.1600e-05, 4.8000e-05, 5.4400e-05, 6.0800e-05,\n",
       "        6.4750e-05, 6.6250e-05, 6.7750e-05, 6.9250e-05, 7.0750e-05,\n",
       "        7.2250e-05, 7.3750e-05, 7.5250e-05, 7.6750e-05, 7.8250e-05,\n",
       "        8.1850e-05, 8.7550e-05, 9.3250e-05, 9.8950e-05, 1.0465e-04,\n",
       "        1.1035e-04, 1.1605e-04, 1.2175e-04, 1.2745e-04, 1.3315e-04]])"
      ]
     },
     "execution_count": 5,
     "metadata": {},
     "output_type": "execute_result"
    }
   ],
   "source": [
    "#f['Grid'].keys() # [\"x\"]\n",
    "f['Grid'][\"x\"][:]"
   ]
  },
  {
   "cell_type": "code",
   "execution_count": 23,
   "metadata": {},
   "outputs": [
    {
     "data": {
      "text/plain": [
       "(10,)"
      ]
     },
     "execution_count": 23,
     "metadata": {},
     "output_type": "execute_result"
    }
   ],
   "source": [
    "#f['NegativeElectrode'].keys() #['1', ... \"125\", 'IndexMap_ne']\n",
    "#f['NegativeElectrode'][\"1\"].keys() # ['SolidDiffusion', 'cSurface', 'phi']\n",
    "f['NegativeElectrode'][\"100\"][\"phi\"][:].flatten().shape\n",
    "#f['PositiveElectrode'][\"IndexMap_ne\"][:]"
   ]
  },
  {
   "cell_type": "code",
   "execution_count": 11,
   "metadata": {},
   "outputs": [],
   "source": [
    "p = figure(title=\"Simple line example\", x_axis_label='x', y_axis_label='y')\n",
    "p.line(f[\"GlobalVariables\"][\"time\"][0,:], f[\"GlobalVariables\"][\"E\"][0,:], legend_label=\"Temp.\", line_width=2)\n",
    "show(p)"
   ]
  },
  {
   "cell_type": "code",
   "execution_count": 31,
   "metadata": {},
   "outputs": [
    {
     "data": {
      "text/plain": [
       "1"
      ]
     },
     "execution_count": 31,
     "metadata": {},
     "output_type": "execute_result"
    }
   ],
   "source": [
    "len(np.array([[1,2,3,4]]).flatten().shape)"
   ]
  },
  {
   "cell_type": "code",
   "execution_count": 35,
   "metadata": {},
   "outputs": [
    {
     "data": {
      "text/plain": [
       "True"
      ]
     },
     "execution_count": 35,
     "metadata": {},
     "output_type": "execute_result"
    }
   ],
   "source": [
    "isinstance(f[\"GlobalVariables\"][\"time\"][:], np.ndarray)"
   ]
  },
  {
   "attachments": {},
   "cell_type": "markdown",
   "metadata": {},
   "source": [
    "## Testing plots\n"
   ]
  },
  {
   "cell_type": "code",
   "execution_count": 5,
   "metadata": {},
   "outputs": [],
   "source": [
    "from plot_timeseries import AppTimeSeries"
   ]
  },
  {
   "cell_type": "code",
   "execution_count": 6,
   "metadata": {},
   "outputs": [],
   "source": [
    "app = AppTimeSeries(time=f[\"GlobalVariables\"][\"time\"][:],\n",
    "                    voltage=f[\"GlobalVariables\"][\"E\"][:],\n",
    "                    current=f[\"GlobalVariables\"][\"I\"][:])\n",
    "app.render_app()"
   ]
  },
  {
   "cell_type": "code",
   "execution_count": 7,
   "metadata": {},
   "outputs": [
    {
     "name": "stderr",
     "output_type": "stream",
     "text": [
      "c:\\Users\\eibarc\\OneDrive - SINTEF\\Documents\\Project HYDRA\\repos\\battmo-examples\\plots\\timeseries.py:175: UserWarning: save() called but no resources were supplied and output_file(...) was never called, defaulting to resources.CDN\n",
      "  save(self.app, path_to_save)\n",
      "c:\\Users\\eibarc\\OneDrive - SINTEF\\Documents\\Project HYDRA\\repos\\battmo-examples\\plots\\timeseries.py:175: UserWarning: save() called but no title was supplied and output_file(...) was never called, using default title 'Bokeh Plot'\n",
      "  save(self.app, path_to_save)\n"
     ]
    }
   ],
   "source": [
    "app.save_app(\"../plot_examples/\"+ \"example_timeseries.html\")"
   ]
  },
  {
   "attachments": {},
   "cell_type": "markdown",
   "metadata": {},
   "source": [
    "## Prototyping app"
   ]
  },
  {
   "cell_type": "code",
   "execution_count": 2,
   "metadata": {},
   "outputs": [],
   "source": [
    "import streamlit as st\n",
    "from pathlib import Path\n"
   ]
  },
  {
   "cell_type": "code",
   "execution_count": 9,
   "metadata": {},
   "outputs": [
    {
     "data": {
      "text/plain": [
       "False"
      ]
     },
     "execution_count": 9,
     "metadata": {},
     "output_type": "execute_result"
    }
   ],
   "source": [
    "os.path.isdir(\"./paramete\")"
   ]
  },
  {
   "cell_type": "code",
   "execution_count": 3,
   "metadata": {},
   "outputs": [
    {
     "name": "stdout",
     "output_type": "stream",
     "text": [
      "cell \n",
      "\n",
      "[WindowsPath('parameters/cell/21700_Cylindrical_LGM50_Chen2020.json')]\n",
      "electrolyte \n",
      "\n",
      "[WindowsPath('parameters/electrolyte/LiPF6_Xu2015.json')]\n",
      "negative_electrode \n",
      "\n",
      "[WindowsPath('parameters/negative_electrode/Graphite_Safari2009.json'), WindowsPath('parameters/negative_electrode/Graphite_Xu2015.json')]\n",
      "positive_electrode \n",
      "\n",
      "[WindowsPath('parameters/positive_electrode/LiFePO4_Xu2015.json'), WindowsPath('parameters/positive_electrode/NMC111_Safari2009.json')]\n",
      "separator \n",
      "\n",
      "[WindowsPath('parameters/separator/celgard2500_Xu2015.json'), WindowsPath('parameters/separator/CoatedPolymer_chen2020.json')]\n"
     ]
    }
   ],
   "source": [
    "parameters_path = Path(\"./parameters\").iterdir()\n",
    "for path in parameters_path:\n",
    "    print(path.name, \"\\n\")\n",
    "    print(list(Path(path).iterdir()))\n"
   ]
  },
  {
   "cell_type": "code",
   "execution_count": 4,
   "metadata": {},
   "outputs": [],
   "source": [
    "def generate_parameter_dict(path_to_params:str = \"./parameters\")-> dict:\n",
    "\n",
    "    param_dict ={}\n",
    "\n",
    "    for directory in os.listdir(path_to_params):\n",
    "        param_dict.update({directory:{}})\n",
    "\n",
    "        for param_set in os.listdir(path_to_params+\"/\"+directory):\n",
    "            param_set_name = param_set.rstrip(\".json\")\n",
    "            with open(path_to_params+\"/\"+directory + \"/\" + param_set) as jsonfile:\n",
    "                param_dict[directory][param_set_name] = json.load(jsonfile)\n",
    "\n",
    "    return param_dict\n",
    "\n",
    "param_dict = generate_parameter_dict()\n",
    "        "
   ]
  },
  {
   "cell_type": "code",
   "execution_count": 7,
   "metadata": {},
   "outputs": [
    {
     "name": "stdout",
     "output_type": "stream",
     "text": [
      "dict_keys(['cell', 'electrolyte', 'negative_electrode', 'positive_electrode', 'separator']) \n",
      "\n",
      "dict_keys(['21700_Cylindrical_LGM50_Chen2020']) \n",
      "\n",
      "dict_keys(['LiPF6_Xu2015']) \n",
      "\n",
      "dict_keys(['Graphite_Safari2009', 'Graphite_Xu2015']) \n",
      "\n",
      "{'cmax': 30555, 'volumeFraction': 0.8, 'volumetricSurfaceArea': 723600, 'density': 2240, 'n': 1, 'Eak': 5000, 'k0': 5.031e-11, 'theta100': 0.88551, 'theta0': 0.1429, 'OCP': {'type': 'function', 'functionname': 'computeOCP_graphite', 'argumentlist': ['cElectrode', 'T', 'cmax']}, 'BruggemanCoefficient': 1.5} \n",
      "\n"
     ]
    }
   ],
   "source": [
    "print(param_dict.keys(), \"\\n\")\n",
    "print(param_dict[\"cell\"].keys(), \"\\n\")\n",
    "print(param_dict[\"electrolyte\"].keys(), \"\\n\")\n",
    "print(param_dict[\"negative_electrode\"].keys(), \"\\n\")\n",
    "print(param_dict[\"negative_electrode\"][\"Graphite_Safari2009\"], \"\\n\")\n"
   ]
  },
  {
   "cell_type": "code",
   "execution_count": 1,
   "metadata": {},
   "outputs": [],
   "source": [
    "import os"
   ]
  },
  {
   "cell_type": "code",
   "execution_count": 2,
   "metadata": {},
   "outputs": [
    {
     "data": {
      "text/plain": [
       "{'cell': {'21700_Cylindrical_LGM50_Chen2020': {'Ambient temperature [K]': 298.15,\n",
       "   'Initial temperature [K]': 298.15,\n",
       "   'Reference temperature [K]': 298.15,\n",
       "   'Lower voltage cut-off [V]': 2.7,\n",
       "   'Upper voltage cut-off [V]': 4.2,\n",
       "   'Nominal cell capacity [A.h]': 12.5,\n",
       "   'Specific heat capacity [J.K-1.kg-1]': 913,\n",
       "   'Thermal conductivity [W.m-1.K-1]': 2.04,\n",
       "   'Density [kg.m-3]': 1847,\n",
       "   'Electrode area [m2]': 0.016808,\n",
       "   'Number of electrode pairs connected in parallel to make a cell': 34,\n",
       "   'External surface area [m2]': 0.0379,\n",
       "   'Volume [m3]': 0.000128}},\n",
       " 'elyte': {'LiPF6_Xu2015': {'specificHeatCapacity': 1518.0,\n",
       "   'heatCapacity': 1836780.0,\n",
       "   'thermalConductivity': 0.099,\n",
       "   'density': 1210,\n",
       "   'compnames': ['Li', 'PF6'],\n",
       "   'chargeCarrierName': 'Li',\n",
       "   'BruggemanCoefficient': 1.5}},\n",
       " 'ne': {'Graphite_Safari2009': {'cmax': 30555,\n",
       "   'volumeFraction': 0.8,\n",
       "   'volumetricSurfaceArea': 723600,\n",
       "   'density': 2240,\n",
       "   'n': 1,\n",
       "   'Eak': 5000,\n",
       "   'k0': 5.031e-11,\n",
       "   'theta100': 0.88551,\n",
       "   'theta0': 0.1429,\n",
       "   'BruggemanCoefficient': 1.5},\n",
       "  'Graphite_Xu2015': {'cmax': 31540,\n",
       "   'volumeFraction': 0.7,\n",
       "   'volumetricSurfaceArea': 142372,\n",
       "   'density': 1852,\n",
       "   'n': 1,\n",
       "   'Eak': 4000,\n",
       "   'k0': 1.76e-11,\n",
       "   'theta100': 0.51873811,\n",
       "   'theta0': 0.001}},\n",
       " 'pe': {'LiFePO4_Xu2015': {'cmax': 26390,\n",
       "   'volumeFraction': 0.72,\n",
       "   'volumetricSurfaceArea': 1878260,\n",
       "   'density': 991,\n",
       "   'n': 1,\n",
       "   'Eak': 4000,\n",
       "   'k0': 3.626e-11,\n",
       "   'theta100': 0.14778,\n",
       "   'theta0': 0.999},\n",
       "  'NMC111_Safari2009': {'cmax': 55554,\n",
       "   'volumeFraction': 0.8,\n",
       "   'volumetricSurfaceArea': 885000,\n",
       "   'density': 4650,\n",
       "   'n': 1,\n",
       "   'Eak': 5000,\n",
       "   'k0': 2.33e-11,\n",
       "   'theta100': 0.4955,\n",
       "   'theta0': 0.99174,\n",
       "   'BruggemanCoefficient': 1.5}},\n",
       " 'protocol': {'CCCV': {'CRate': 1,\n",
       "   'lowerCutoffVoltage': 2.4,\n",
       "   'upperCutoffVoltage': 4.1,\n",
       "   'dIdtLimit': 0.01,\n",
       "   'dEdtLimit': 0.01}},\n",
       " 'sep': {'celgard2500_Xu2015': {'porosity': 0.4,\n",
       "   'specificHeatCapacity': 1692,\n",
       "   'heatCapacity': 1318068,\n",
       "   'thermalConductivity': 0.334,\n",
       "   'density': 779,\n",
       "   'BruggemanCoefficient': 1.5},\n",
       "  'CoatedPolymer_chen2020': {'porosity': 0.47}}}"
      ]
     },
     "execution_count": 2,
     "metadata": {},
     "output_type": "execute_result"
    }
   ],
   "source": [
    "from app_model import LoaderJsons\n",
    "\n",
    "available_params = LoaderJsons(location=\"./parameters\")\n",
    "available_params.load()"
   ]
  }
 ],
 "metadata": {
  "kernelspec": {
   "display_name": "venv-battmo",
   "language": "python",
   "name": "python3"
  },
  "language_info": {
   "codemirror_mode": {
    "name": "ipython",
    "version": 3
   },
   "file_extension": ".py",
   "mimetype": "text/x-python",
   "name": "python",
   "nbconvert_exporter": "python",
   "pygments_lexer": "ipython3",
   "version": "3.10.6 (tags/v3.10.6:9c7b4bd, Aug  1 2022, 21:53:49) [MSC v.1932 64 bit (AMD64)]"
  },
  "orig_nbformat": 4,
  "vscode": {
   "interpreter": {
    "hash": "1cc71a701777bee9c7a4e43646220deb2c5c53bd3718172ec7085ac7688e5c44"
   }
  }
 },
 "nbformat": 4,
 "nbformat_minor": 2
}
