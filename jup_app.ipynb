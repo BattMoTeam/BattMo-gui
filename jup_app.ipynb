{
 "cells": [
  {
   "cell_type": "code",
   "execution_count": 1,
   "metadata": {},
   "outputs": [],
   "source": [
    "from flask import Flask, render_template\n",
    "#from flask_caching import Cache\n",
    "import multiprocessing\n",
    "import pickle\n",
    "from julia import Main\n",
    "import julia\n",
    "julia.install()\n",
    "global jl\n",
    "jl = Main\n",
    "\n"
   ]
  },
  {
   "cell_type": "code",
   "execution_count": 2,
   "metadata": {},
   "outputs": [
    {
     "data": {
      "text/plain": [
       "<PyCall.jlwrap Main.runP2DBattery>"
      ]
     },
     "execution_count": 2,
     "metadata": {},
     "output_type": "execute_result"
    }
   ],
   "source": [
    "jl.include(\"BattMoJulia/runP2DBattery.jl\")"
   ]
  },
  {
   "cell_type": "code",
   "execution_count": 3,
   "metadata": {},
   "outputs": [],
   "source": [
    "def run_julia():\n",
    "    print(\"start = \", jl)\n",
    "    output = jl.runP2DBattery.runP2DBatt(\"BattMoJulia/p2d_40_jl.json\")\n",
    "    \n",
    "    return output[1]"
   ]
  },
  {
   "cell_type": "code",
   "execution_count": 4,
   "metadata": {},
   "outputs": [],
   "source": [
    "multiprocessing.set_start_method(\"spawn\")"
   ]
  },
  {
   "cell_type": "code",
   "execution_count": 5,
   "metadata": {},
   "outputs": [],
   "source": [
    "app = Flask(__name__)\n",
    "\n",
    "@app.route(\"/run\")\n",
    "def run():\n",
    "\n",
    "    #run_julia()\n",
    "    process1 = multiprocessing.Process(name = 'process1',target = run_julia)\n",
    "    #states, reports, extra = jl.seval('run_battery_1d(filename =\"BattMoJulia/p2d_40_jl.json\")')\n",
    "    #run_julia()\n",
    "    \n",
    "    process1.start()\n",
    "    process1.join()\n",
    "    return (\"nothing\")\n",
    "\n",
    "# if __name__ == '__main__':\n",
    "#     print(\"main\")\n",
    "\n",
    "#     "
   ]
  },
  {
   "cell_type": "code",
   "execution_count": 6,
   "metadata": {},
   "outputs": [
    {
     "name": "stdout",
     "output_type": "stream",
     "text": [
      " * Serving Flask app '__main__'\n",
      " * Debug mode: off\n"
     ]
    },
    {
     "name": "stderr",
     "output_type": "stream",
     "text": [
      "WARNING: This is a development server. Do not use it in a production deployment. Use a production WSGI server instead.\n",
      " * Running on http://127.0.0.1:5000\n",
      "Press CTRL+C to quit\n",
      "127.0.0.1 - - [15/Aug/2023 12:04:06] \"GET /run HTTP/1.1\" 200 -\n"
     ]
    }
   ],
   "source": [
    "app.run(debug=False)"
   ]
  },
  {
   "cell_type": "code",
   "execution_count": null,
   "metadata": {},
   "outputs": [],
   "source": [
    "# def run_julia():\n",
    "#     print(\"start = \", jl)\n",
    "#     output = jl.runP2DBattery.runP2DBatt(\"BattMoJulia/p2d_40_jl.json\")\n",
    "#     print(output[1])\n",
    "#     return (\"nothing\")\n",
    "\n",
    "# def multi():\n",
    "#     multiprocessing.set_start_method(\"spawn\")\n",
    "\n",
    "# app = Flask(__name__)\n",
    "\n",
    "# @app.route(\"/run\")\n",
    "# def json():\n",
    "\n",
    "#     return render_template('json.html')\n",
    "\n",
    "# @app.route('/background_process_test')\n",
    "# def background_process_test():\n",
    "    \n",
    "#     run_julia()\n",
    "#     # process1 = multiprocessing.Process(name = 'process1',target = run_julia)\n",
    "#     # #states, reports, extra = jl.seval('run_battery_1d(filename =\"BattMoJulia/p2d_40_jl.json\")')\n",
    "#     # #run_julia()\n",
    "    \n",
    "#     # process1.start()\n",
    "#     # process1.join()\n",
    "\n",
    "#     return (\"nothing\")\n",
    "\n",
    "# @app.route('/initialize/multip')\n",
    "# def multiprocess():\n",
    "#     multi()\n",
    "#     return (\"nothing\")\n",
    "\n",
    "# if __name__ == '__main__':\n",
    "#     print(\"main\")\n",
    "\n",
    "#     app.run(debug=False)\n"
   ]
  },
  {
   "cell_type": "code",
   "execution_count": null,
   "metadata": {},
   "outputs": [],
   "source": [
    "output = jl.runP2DBattery.runP2DBatt(\"BattMoJulia/p2d_40_jl.json\")\n",
    "output[1]"
   ]
  }
 ],
 "metadata": {
  "kernelspec": {
   "display_name": "Python 3",
   "language": "python",
   "name": "python3"
  },
  "language_info": {
   "codemirror_mode": {
    "name": "ipython",
    "version": 3
   },
   "file_extension": ".py",
   "mimetype": "text/x-python",
   "name": "python",
   "nbconvert_exporter": "python",
   "pygments_lexer": "ipython3",
   "version": "3.11.4"
  },
  "orig_nbformat": 4
 },
 "nbformat": 4,
 "nbformat_minor": 2
}
