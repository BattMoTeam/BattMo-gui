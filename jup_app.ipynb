{
 "cells": [
  {
   "cell_type": "code",
   "execution_count": 1,
   "metadata": {},
   "outputs": [
    {
     "name": "stderr",
     "output_type": "stream",
     "text": [
      "[ Info: Julia version info\n"
     ]
    },
    {
     "name": "stdout",
     "output_type": "stream",
     "text": [
      "Julia Version 1.9.2\n",
      "Commit e4ee485e909 (2023-07-05 09:39 UTC)\n",
      "Platform Info:\n",
      "  OS: Linux (x86_64-linux-gnu)\n",
      "  uname: Linux 5.15.90.1-microsoft-standard-WSL2 #1 SMP Fri Jan 27 02:56:13 UTC 2023 x86_64 unknown\n",
      "  CPU: Intel(R) Core(TM) i7-8650U CPU @ 1.90GHz: \n",
      "              speed         user         nice          sys         idle          irq\n",
      "       #1  2111 MHz       3258 s        313 s       2423 s     160128 s          0 s\n",
      "       #2  2111 MHz       5287 s        953 s       2127 s     157951 s          0 s\n",
      "       #3  2111 MHz       3644 s         18 s       3075 s     153955 s          0 s\n",
      "       #4  2111 MHz       5784 s         22 s       2159 s     158538 s          0 s\n",
      "       #5  2111 MHz       4294 s        626 s       3146 s     158264 s          0 s\n",
      "       #6  2111 MHz       3521 s        202 s       2184 s     160528 s          0 s\n",
      "       #7  2111 MHz       4421 s          0 s       2734 s     159195 s          0 s\n",
      "       #8  2111 MHz       4762 s          0 s       2075 s     159666 s          0 s\n",
      "  Memory: 7.68157958984375 GB (2771.96875 MB free)\n",
      "  Uptime: 16685.21 sec\n",
      "  Load Avg:  0.58  0.42  0.4\n",
      "  WORD_SIZE: 64\n",
      "  LIBM: libopenlibm\n",
      "  LLVM: libLLVM-14.0.6 (ORCJIT, skylake)\n",
      "  Threads: 1 on 8 virtual cores\n",
      "Environment:\n",
      "  HOME = /root\n",
      "  PATH = /usr/local/bin:/root/.local/bin:/vscode/vscode-server/bin/linux-x64/6c3e3dba23e8fadc360aed75ce363ba185c49794/bin/remote-cli:/usr/local/bin:/usr/local/sbin:/usr/local/bin:/usr/sbin:/usr/bin:/sbin:/bin:/vscode/vscode-server/bin/linux-x64/6c3e3dba23e8fadc360aed75ce363ba185c49794/bin/remote-cli:/usr/local/bin:/usr/local/sbin:/usr/local/bin:/usr/sbin:/usr/bin:/sbin:/bin\n",
      "  TERM = xterm-color\n"
     ]
    },
    {
     "name": "stderr",
     "output_type": "stream",
     "text": [
      "[ Info: Julia executable: /opt/julias/julia-1.9/bin/julia\n",
      "[ Info: Trying to import PyCall...\n",
      "┌ Info: PyCall is already installed and compatible with Python executable.\n",
      "│ \n",
      "│ PyCall:\n",
      "│     python: /usr/local/bin/python\n",
      "│     libpython: /usr/local/lib/libpython3.11.so.1.0\n",
      "│ Python:\n",
      "│     python: /usr/local/bin/python\n",
      "└     libpython: /usr/local/lib/libpython3.11.so.1.0\n"
     ]
    }
   ],
   "source": [
    "from flask import Flask, render_template\n",
    "#from flask_caching import Cache\n",
    "import multiprocessing\n",
    "import pickle\n",
    "from julia import Main\n",
    "import julia\n",
    "julia.install()\n",
    "global jl\n",
    "jl = Main\n",
    "\n"
   ]
  },
  {
   "cell_type": "code",
   "execution_count": 2,
   "metadata": {},
   "outputs": [
    {
     "data": {
      "text/plain": [
       "<PyCall.jlwrap Main.runP2DBattery>"
      ]
     },
     "execution_count": 2,
     "metadata": {},
     "output_type": "execute_result"
    }
   ],
   "source": [
    "jl.include(\"BattMoJulia/runP2DBattery.jl\")"
   ]
  },
  {
   "cell_type": "code",
   "execution_count": null,
   "metadata": {},
   "outputs": [],
   "source": [
    "def run_julia():\n",
    "    print(\"start = \", jl)\n",
    "    output = jl.runP2DBattery.runP2DBatt(\"BattMoJulia/battmo_formatted_input.json\")\n",
    "    \n",
    "    return output[1]"
   ]
  },
  {
   "cell_type": "code",
   "execution_count": null,
   "metadata": {},
   "outputs": [],
   "source": [
    "multiprocessing.set_start_method(\"spawn\")"
   ]
  },
  {
   "cell_type": "code",
   "execution_count": null,
   "metadata": {},
   "outputs": [],
   "source": [
    "app = Flask(__name__)\n",
    "\n",
    "@app.route(\"/run\")\n",
    "def run():\n",
    "\n",
    "    #run_julia()\n",
    "    process1 = multiprocessing.Process(name = 'process1',target = run_julia)\n",
    "    #states, reports, extra = jl.seval('run_battery_1d(filename =\"BattMoJulia/p2d_40_jl.json\")')\n",
    "    #run_julia()\n",
    "    \n",
    "    process1.start()\n",
    "    process1.join()\n",
    "    return (\"nothing\")\n",
    "\n",
    "# if __name__ == '__main__':\n",
    "#     print(\"main\")\n",
    "\n",
    "#     "
   ]
  },
  {
   "cell_type": "code",
   "execution_count": null,
   "metadata": {},
   "outputs": [],
   "source": [
    "app.run(debug=False)"
   ]
  },
  {
   "cell_type": "code",
   "execution_count": null,
   "metadata": {},
   "outputs": [],
   "source": [
    "# def run_julia():\n",
    "#     print(\"start = \", jl)\n",
    "#     output = jl.runP2DBattery.runP2DBatt(\"BattMoJulia/p2d_40_jl.json\")\n",
    "#     print(output[1])\n",
    "#     return (\"nothing\")\n",
    "\n",
    "# def multi():\n",
    "#     multiprocessing.set_start_method(\"spawn\")\n",
    "\n",
    "# app = Flask(__name__)\n",
    "\n",
    "# @app.route(\"/run\")\n",
    "# def json():\n",
    "\n",
    "#     return render_template('json.html')\n",
    "\n",
    "# @app.route('/background_process_test')\n",
    "# def background_process_test():\n",
    "    \n",
    "#     run_julia()\n",
    "#     # process1 = multiprocessing.Process(name = 'process1',target = run_julia)\n",
    "#     # #states, reports, extra = jl.seval('run_battery_1d(filename =\"BattMoJulia/p2d_40_jl.json\")')\n",
    "#     # #run_julia()\n",
    "    \n",
    "#     # process1.start()\n",
    "#     # process1.join()\n",
    "\n",
    "#     return (\"nothing\")\n",
    "\n",
    "# @app.route('/initialize/multip')\n",
    "# def multiprocess():\n",
    "#     multi()\n",
    "#     return (\"nothing\")\n",
    "\n",
    "# if __name__ == '__main__':\n",
    "#     print(\"main\")\n",
    "\n",
    "#     app.run(debug=False)\n"
   ]
  },
  {
   "cell_type": "code",
   "execution_count": 3,
   "metadata": {},
   "outputs": [
    {
     "name": "stdout",
     "output_type": "stream",
     "text": [
      "Calling BattMo simulation╭────────────────┬──────────┬──────────────┬──────────┬──────────╮\n",
      "│ Iteration type │ Avg/step │ Avg/ministep │ Time per │    Total │\n",
      "│                │ 78 steps │ 82 ministeps │       ms │ (wasted) │\n",
      "├────────────────┼──────────┼──────────────┼──────────┼──────────┤\n",
      "│ Newton         │  3.05128 │      2.90244 │  79.5679 │  238 (2) │\n",
      "│ Linearization  │  4.07692 │      3.87805 │  59.5508 │  318 (2) │\n",
      "│ Linear solver  │  3.05128 │      2.90244 │  79.5679 │  238 (2) │\n",
      "╰────────────────┴──────────┴──────────────┴──────────┴──────────╯\n",
      "╭─��──────────────┬─────────┬────────────┬─────────╮\n",
      "│ Timing type    │    Each │   Relative │   Total │\n",
      "│                │      ms │ Percentage │       s │\n",
      "├────────────────┼─────────┼────────────┼─────────┤\n",
      "│ Properties     │  0.0936 │     0.12 % │  0.0223 │\n",
      "│ Equations      │ 30.7162 │    51.58 % │  9.7677 │\n",
      "│ Assembly       │ 10.6703 │    17.92 % │  3.3932 │\n",
      "│ Linear solve   │  0.6980 │     0.88 % │  0.1661 │\n",
      "│ Preconditioner │  0.0000 │     0.00 % │  0.0000 │\n",
      "│ Update         │  5.9112 │     7.43 % │  1.4069 │\n",
      "│ Convergence    │  5.5988 │     9.40 % │  1.7804 │\n",
      "│ Input/Output   │  0.7016 │     0.30 % │  0.0575 │\n",
      "│ Other          │  9.8446 │    12.37 % │  2.3430 │\n",
      "├────────────────┼─────────┼────────────┼─────────┤\n",
      "│ Total          │ 79.5679 │   100.00 % │ 18.9372 │\n",
      "╰────────────────┴─────────┴────────────┴─────────╯\n",
      "Simulation finished"
     ]
    },
    {
     "data": {
      "text/plain": [
       "array([4.16334109, 4.14507909, 4.09529844, 4.084784  , 4.06925411,\n",
       "       4.04668792, 4.01400508, 3.98767119, 3.96488872, 3.9444254 ,\n",
       "       3.92564178, 3.90816757, 3.89177113, 3.87629892, 3.86164435,\n",
       "       3.84773013, 3.83449757, 3.82189956, 3.80989567, 3.79844836,\n",
       "       3.78751988, 3.77706928, 3.76704921, 3.75740234, 3.74805672,\n",
       "       3.73892009, 3.72987265, 3.72075809, 3.71137193, 3.70144386,\n",
       "       3.69060657, 3.67833651, 3.66383909, 3.64581956, 3.62199034,\n",
       "       3.58787405, 3.53329256, 3.42845223, 3.12586485, 2.4       ,\n",
       "       2.4       , 2.4       , 2.4       , 2.4       , 2.4       ,\n",
       "       2.4       , 2.4       , 2.4       , 2.4       , 2.4       ,\n",
       "       2.4       , 2.4       , 2.4       , 2.4       , 2.4       ,\n",
       "       2.4       , 2.4       , 2.4       , 2.4       , 2.4       ,\n",
       "       2.4       , 2.4       , 2.4       , 2.4       , 2.4       ,\n",
       "       2.4       , 2.4       , 2.4       , 2.4       , 2.4       ,\n",
       "       2.4       , 2.4       , 2.4       , 2.4       , 2.4       ,\n",
       "       2.4       , 2.4       , 2.4       ])"
      ]
     },
     "execution_count": 3,
     "metadata": {},
     "output_type": "execute_result"
    }
   ],
   "source": [
    "output = jl.runP2DBattery.runP2DBatt(\"BattMoJulia/battmo_formatted_input.json\")\n",
    "output[1]"
   ]
  },
  {
   "cell_type": "code",
   "execution_count": null,
   "metadata": {},
   "outputs": [],
   "source": [
    "data = json.loads()"
   ]
  }
 ],
 "metadata": {
  "kernelspec": {
   "display_name": "Python 3",
   "language": "python",
   "name": "python3"
  },
  "language_info": {
   "codemirror_mode": {
    "name": "ipython",
    "version": 3
   },
   "file_extension": ".py",
   "mimetype": "text/x-python",
   "name": "python",
   "nbconvert_exporter": "python",
   "pygments_lexer": "ipython3",
   "version": "3.11.4"
  },
  "orig_nbformat": 4
 },
 "nbformat": 4,
 "nbformat_minor": 2
}
